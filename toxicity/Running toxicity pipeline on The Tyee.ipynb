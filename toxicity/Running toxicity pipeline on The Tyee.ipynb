{
 "cells": [
  {
   "cell_type": "markdown",
   "metadata": {},
   "source": [
    "# Running toxicity on The Tyee comments"
   ]
  },
  {
   "cell_type": "code",
   "execution_count": 1,
   "metadata": {},
   "outputs": [],
   "source": [
    "import pandas as pd\n",
    "import os\n",
    "import csv\n",
    "import json\n",
    "import sys\n",
    "import random\n",
    "import requests\n",
    "import time\n",
    "from bs4 import BeautifulSoup"
   ]
  },
  {
   "cell_type": "code",
   "execution_count": 2,
   "metadata": {},
   "outputs": [],
   "source": [
    "from googleapiclient import discovery\n",
    "from googleapiclient import http\n",
    "API_KEY='REPLACE_WITH_YOUR_API_KEY'"
   ]
  },
  {
   "cell_type": "code",
   "execution_count": 3,
   "metadata": {},
   "outputs": [],
   "source": [
    "service = discovery.build('commentanalyzer', 'v1alpha1', developerKey=API_KEY)\n",
    "numRequests = 0\n",
    "\n",
    "def getPrediction(text):\n",
    "    global numRequests\n",
    "    global startTime\n",
    "    \n",
    "    if len(text) > 20480:\n",
    "        return -1\n",
    "    \n",
    "    analyze_request = {\n",
    "      'comment': { 'text': text },\n",
    "      'languages' : [\"en\"],\n",
    "      'requestedAttributes': {'TOXICITY': {}}\n",
    "    }\n",
    "    \n",
    "    # 10 requests per second\n",
    "    \n",
    "    if numRequests >= 990:\n",
    "        endTime = time.time()\n",
    "        while (endTime - startTime) <= 100:\n",
    "            time.sleep(1)\n",
    "            endTime = time.time()\n",
    "        numRequests = 0\n",
    "        startTime = time.time()\n",
    "\n",
    "    rateLimitExceeded = True\n",
    "    while rateLimitExceeded:\n",
    "        try:\n",
    "            response = service.comments().analyze(body=analyze_request).execute()\n",
    "        except http.HttpError:\n",
    "            time.sleep(5)\n",
    "        else:\n",
    "            rateLimitExceeded = False\n",
    "        finally:\n",
    "            numRequests += 1\n",
    "\n",
    "    return response['attributeScores']['TOXICITY']['summaryScore']['value']"
   ]
  },
  {
   "cell_type": "markdown",
   "metadata": {},
   "source": [
    "## Testing"
   ]
  },
  {
   "cell_type": "code",
   "execution_count": 4,
   "metadata": {},
   "outputs": [],
   "source": [
    "text = 'I hope your mother gets cervical cancer.'"
   ]
  },
  {
   "cell_type": "code",
   "execution_count": 5,
   "metadata": {},
   "outputs": [
    {
     "data": {
      "text/plain": [
       "0.9471205"
      ]
     },
     "execution_count": 5,
     "metadata": {},
     "output_type": "execute_result"
    }
   ],
   "source": [
    "getPrediction(text)"
   ]
  },
  {
   "cell_type": "markdown",
   "metadata": {},
   "source": [
    "## Reading in Tyee data"
   ]
  },
  {
   "cell_type": "code",
   "execution_count": 6,
   "metadata": {},
   "outputs": [
    {
     "name": "stderr",
     "output_type": "stream",
     "text": [
      "/home/vgautam/anaconda3/envs/usra/lib/python3.5/site-packages/IPython/core/interactiveshell.py:2785: DtypeWarning: Columns (1,9,10) have mixed types. Specify dtype option on import or set low_memory=False.\n",
      "  interactivity=interactivity, compiler=compiler, result=result)\n"
     ]
    }
   ],
   "source": [
    "raw = pd.read_csv('/home/vgautam/the_tyee_posts_preprocessed.csv')['message_preprocessed'].dropna()\n",
    "\n",
    "df = pd.DataFrame(raw.rename('pp_comment_text'))\n",
    "df = df[df['pp_comment_text'] != '']"
   ]
  },
  {
   "cell_type": "code",
   "execution_count": 7,
   "metadata": {},
   "outputs": [
    {
     "data": {
      "text/html": [
       "<div>\n",
       "<style scoped>\n",
       "    .dataframe tbody tr th:only-of-type {\n",
       "        vertical-align: middle;\n",
       "    }\n",
       "\n",
       "    .dataframe tbody tr th {\n",
       "        vertical-align: top;\n",
       "    }\n",
       "\n",
       "    .dataframe thead th {\n",
       "        text-align: right;\n",
       "    }\n",
       "</style>\n",
       "<table border=\"1\" class=\"dataframe\">\n",
       "  <thead>\n",
       "    <tr style=\"text-align: right;\">\n",
       "      <th></th>\n",
       "      <th>pp_comment_text</th>\n",
       "    </tr>\n",
       "  </thead>\n",
       "  <tbody>\n",
       "    <tr>\n",
       "      <th>0</th>\n",
       "      <td>Tyee Site Manager  Hello Everyone, The Tyee ex...</td>\n",
       "    </tr>\n",
       "    <tr>\n",
       "      <th>1</th>\n",
       "      <td>It has come to the Tyee editor's attention tha...</td>\n",
       "    </tr>\n",
       "    <tr>\n",
       "      <th>2</th>\n",
       "      <td>I'm glad you're tackling this \"alienation\" wor...</td>\n",
       "    </tr>\n",
       "    <tr>\n",
       "      <th>3</th>\n",
       "      <td>Very charming and descriptive. I enjoyed this ...</td>\n",
       "    </tr>\n",
       "    <tr>\n",
       "      <th>4</th>\n",
       "      <td>Looking forward to seeing some stories of posi...</td>\n",
       "    </tr>\n",
       "  </tbody>\n",
       "</table>\n",
       "</div>"
      ],
      "text/plain": [
       "                                     pp_comment_text\n",
       "0  Tyee Site Manager  Hello Everyone, The Tyee ex...\n",
       "1  It has come to the Tyee editor's attention tha...\n",
       "2  I'm glad you're tackling this \"alienation\" wor...\n",
       "3  Very charming and descriptive. I enjoyed this ...\n",
       "4  Looking forward to seeing some stories of posi..."
      ]
     },
     "execution_count": 7,
     "metadata": {},
     "output_type": "execute_result"
    }
   ],
   "source": [
    "df.head()"
   ]
  },
  {
   "cell_type": "markdown",
   "metadata": {},
   "source": [
    "## Predicting toxicity"
   ]
  },
  {
   "cell_type": "code",
   "execution_count": null,
   "metadata": {},
   "outputs": [
    {
     "name": "stdout",
     "output_type": "stream",
     "text": [
      "0\n"
     ]
    }
   ],
   "source": [
    "startTime = time.time()\n",
    "with open('/home/vgautam/new_tyee_toxicity_results.csv', 'w+') as fo:\n",
    "    fieldnames = ['pp_comment_text', 'TOXICITY_probability']\n",
    "    \n",
    "    writer = csv.DictWriter(fo, fieldnames=fieldnames)\n",
    "    \n",
    "    writer.writeheader()\n",
    "\n",
    "    for i,post in enumerate(list(df['pp_comment_text'])):\n",
    "        if (i % 100000) == 0: print(i)\n",
    "        tox_dict = {}\n",
    "        \n",
    "        tox_dict['pp_comment_text'] = post\n",
    "        tox_dict['TOXICITY_probability'] = getPrediction(post)\n",
    "        \n",
    "        writer.writerow(tox_dict)"
   ]
  },
  {
   "cell_type": "markdown",
   "metadata": {},
   "source": [
    "## Preview of results"
   ]
  },
  {
   "cell_type": "code",
   "execution_count": null,
   "metadata": {},
   "outputs": [],
   "source": [
    "pd.read_csv('/home/vgautam/new_tyee_toxicity_results.csv').head()"
   ]
  }
 ],
 "metadata": {
  "kernelspec": {
   "display_name": "Python 3",
   "language": "python",
   "name": "python3"
  },
  "language_info": {
   "codemirror_mode": {
    "name": "ipython",
    "version": 3
   },
   "file_extension": ".py",
   "mimetype": "text/x-python",
   "name": "python",
   "nbconvert_exporter": "python",
   "pygments_lexer": "ipython3",
   "version": "3.5.6"
  }
 },
 "nbformat": 4,
 "nbformat_minor": 2
}
