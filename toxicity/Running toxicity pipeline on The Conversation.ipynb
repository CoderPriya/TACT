{
 "cells": [
  {
   "cell_type": "markdown",
   "metadata": {},
   "source": [
    "# Running toxicity on The Conversation comments"
   ]
  },
  {
   "cell_type": "code",
   "execution_count": 1,
   "metadata": {},
   "outputs": [],
   "source": [
    "import pandas as pd\n",
    "import os\n",
    "import csv\n",
    "import json\n",
    "import sys\n",
    "import random\n",
    "import requests\n",
    "import time\n",
    "from bs4 import BeautifulSoup"
   ]
  },
  {
   "cell_type": "code",
   "execution_count": 2,
   "metadata": {},
   "outputs": [],
   "source": [
    "from googleapiclient import discovery\n",
    "from googleapiclient import http\n",
    "API_KEY='REPLACE_WITH_YOUR_API_KEY'"
   ]
  },
  {
   "cell_type": "code",
   "execution_count": 3,
   "metadata": {},
   "outputs": [],
   "source": [
    "service = discovery.build('commentanalyzer', 'v1alpha1', developerKey=API_KEY)\n",
    "numRequests = 0\n",
    "\n",
    "def getPrediction(text):\n",
    "    global numRequests\n",
    "    global startTime\n",
    "    \n",
    "    if len(text) > 20480:\n",
    "        return -1\n",
    "    \n",
    "    analyze_request = {\n",
    "      'comment': { 'text': text },\n",
    "      'languages' : [\"en\"],\n",
    "      'requestedAttributes': {'TOXICITY': {}}\n",
    "    }\n",
    "    \n",
    "    # 10 requests per second\n",
    "    \n",
    "    if numRequests >= 990:\n",
    "        endTime = time.time()\n",
    "        while (endTime - startTime) <= 100:\n",
    "            time.sleep(1)\n",
    "            endTime = time.time()\n",
    "        numRequests = 0\n",
    "        startTime = time.time()\n",
    "\n",
    "    rateLimitExceeded = True\n",
    "    while rateLimitExceeded:\n",
    "        try:\n",
    "            response = service.comments().analyze(body=analyze_request).execute()\n",
    "        except http.HttpError:\n",
    "            time.sleep(100)\n",
    "        else:\n",
    "            rateLimitExceeded = False\n",
    "        finally:\n",
    "            numRequests += 1\n",
    "\n",
    "    return response['attributeScores']['TOXICITY']['summaryScore']['value']"
   ]
  },
  {
   "cell_type": "markdown",
   "metadata": {},
   "source": [
    "## Testing"
   ]
  },
  {
   "cell_type": "code",
   "execution_count": 4,
   "metadata": {},
   "outputs": [],
   "source": [
    "text = 'I hope your mother gets cervical cancer.'"
   ]
  },
  {
   "cell_type": "code",
   "execution_count": 5,
   "metadata": {},
   "outputs": [
    {
     "data": {
      "text/plain": [
       "0.9471205"
      ]
     },
     "execution_count": 5,
     "metadata": {},
     "output_type": "execute_result"
    }
   ],
   "source": [
    "getPrediction(text)"
   ]
  },
  {
   "cell_type": "markdown",
   "metadata": {},
   "source": [
    "## Reading in Conversation data"
   ]
  },
  {
   "cell_type": "code",
   "execution_count": 6,
   "metadata": {},
   "outputs": [
    {
     "name": "stderr",
     "output_type": "stream",
     "text": [
      "/home/vgautam/anaconda3/envs/usra/lib/python3.5/site-packages/pandas/core/series.py:3194: UserWarning: No parser was explicitly specified, so I'm using the best available HTML parser for this system (\"lxml\"). This usually isn't a problem, but if you run this code on another system, or in a different virtual environment, it may use a different parser and behave differently.\n",
      "\n",
      "The code that caused this warning is on line 3194 of the file /home/vgautam/anaconda3/envs/usra/lib/python3.5/site-packages/pandas/core/series.py. To get rid of this warning, pass the additional argument 'features=\"lxml\"' to the BeautifulSoup constructor.\n",
      "\n",
      "  mapped = lib.map_infer(values, f, convert=convert_dtype)\n"
     ]
    }
   ],
   "source": [
    "raw = pd.read_csv('/home/vgautam/the_conversation.csv')['Comment body'].apply(BeautifulSoup)\n",
    "\n",
    "def getText(row):\n",
    "    return row.text\n",
    "\n",
    "df = pd.DataFrame(raw.apply(getText).rename('pp_comment_text'))\n",
    "df = df[df['pp_comment_text'] != '']"
   ]
  },
  {
   "cell_type": "code",
   "execution_count": 7,
   "metadata": {},
   "outputs": [
    {
     "data": {
      "text/html": [
       "<div>\n",
       "<style scoped>\n",
       "    .dataframe tbody tr th:only-of-type {\n",
       "        vertical-align: middle;\n",
       "    }\n",
       "\n",
       "    .dataframe tbody tr th {\n",
       "        vertical-align: top;\n",
       "    }\n",
       "\n",
       "    .dataframe thead th {\n",
       "        text-align: right;\n",
       "    }\n",
       "</style>\n",
       "<table border=\"1\" class=\"dataframe\">\n",
       "  <thead>\n",
       "    <tr style=\"text-align: right;\">\n",
       "      <th></th>\n",
       "      <th>pp_comment_text</th>\n",
       "    </tr>\n",
       "  </thead>\n",
       "  <tbody>\n",
       "    <tr>\n",
       "      <th>0</th>\n",
       "      <td>I agree. For me Persuasion edges out Austen’s ...</td>\n",
       "    </tr>\n",
       "    <tr>\n",
       "      <th>1</th>\n",
       "      <td>I’m not sure there is a ready formula for incu...</td>\n",
       "    </tr>\n",
       "    <tr>\n",
       "      <th>2</th>\n",
       "      <td>FISHING EXPEDITIONS?Yes, I also saw the “fishi...</td>\n",
       "    </tr>\n",
       "    <tr>\n",
       "      <th>3</th>\n",
       "      <td>Prof LaBella, while I totally agree with major...</td>\n",
       "    </tr>\n",
       "    <tr>\n",
       "      <th>4</th>\n",
       "      <td>You are correct.  Einstein is an exception.   ...</td>\n",
       "    </tr>\n",
       "  </tbody>\n",
       "</table>\n",
       "</div>"
      ],
      "text/plain": [
       "                                     pp_comment_text\n",
       "0  I agree. For me Persuasion edges out Austen’s ...\n",
       "1  I’m not sure there is a ready formula for incu...\n",
       "2  FISHING EXPEDITIONS?Yes, I also saw the “fishi...\n",
       "3  Prof LaBella, while I totally agree with major...\n",
       "4  You are correct.  Einstein is an exception.   ..."
      ]
     },
     "execution_count": 7,
     "metadata": {},
     "output_type": "execute_result"
    }
   ],
   "source": [
    "df.head()"
   ]
  },
  {
   "cell_type": "markdown",
   "metadata": {},
   "source": [
    "## Predicting toxicity"
   ]
  },
  {
   "cell_type": "code",
   "execution_count": 8,
   "metadata": {},
   "outputs": [],
   "source": [
    "startTime = time.time()\n",
    "df['TOXICITY_probability'] = df['pp_comment_text'].apply(getPrediction)"
   ]
  },
  {
   "cell_type": "markdown",
   "metadata": {},
   "source": [
    "## Preview of results"
   ]
  },
  {
   "cell_type": "code",
   "execution_count": 11,
   "metadata": {},
   "outputs": [
    {
     "data": {
      "text/html": [
       "<div>\n",
       "<style scoped>\n",
       "    .dataframe tbody tr th:only-of-type {\n",
       "        vertical-align: middle;\n",
       "    }\n",
       "\n",
       "    .dataframe tbody tr th {\n",
       "        vertical-align: top;\n",
       "    }\n",
       "\n",
       "    .dataframe thead th {\n",
       "        text-align: right;\n",
       "    }\n",
       "</style>\n",
       "<table border=\"1\" class=\"dataframe\">\n",
       "  <thead>\n",
       "    <tr style=\"text-align: right;\">\n",
       "      <th></th>\n",
       "      <th>pp_comment_text</th>\n",
       "      <th>TOXICITY_probability</th>\n",
       "    </tr>\n",
       "  </thead>\n",
       "  <tbody>\n",
       "    <tr>\n",
       "      <th>0</th>\n",
       "      <td>I agree. For me Persuasion edges out Austen’s ...</td>\n",
       "      <td>0.100128</td>\n",
       "    </tr>\n",
       "    <tr>\n",
       "      <th>1</th>\n",
       "      <td>I’m not sure there is a ready formula for incu...</td>\n",
       "      <td>0.146383</td>\n",
       "    </tr>\n",
       "    <tr>\n",
       "      <th>2</th>\n",
       "      <td>FISHING EXPEDITIONS?Yes, I also saw the “fishi...</td>\n",
       "      <td>0.069758</td>\n",
       "    </tr>\n",
       "    <tr>\n",
       "      <th>3</th>\n",
       "      <td>Prof LaBella, while I totally agree with major...</td>\n",
       "      <td>0.075774</td>\n",
       "    </tr>\n",
       "    <tr>\n",
       "      <th>4</th>\n",
       "      <td>You are correct.  Einstein is an exception.   ...</td>\n",
       "      <td>0.106335</td>\n",
       "    </tr>\n",
       "  </tbody>\n",
       "</table>\n",
       "</div>"
      ],
      "text/plain": [
       "                                     pp_comment_text  TOXICITY_probability\n",
       "0  I agree. For me Persuasion edges out Austen’s ...              0.100128\n",
       "1  I’m not sure there is a ready formula for incu...              0.146383\n",
       "2  FISHING EXPEDITIONS?Yes, I also saw the “fishi...              0.069758\n",
       "3  Prof LaBella, while I totally agree with major...              0.075774\n",
       "4  You are correct.  Einstein is an exception.   ...              0.106335"
      ]
     },
     "execution_count": 11,
     "metadata": {},
     "output_type": "execute_result"
    }
   ],
   "source": [
    "df.head()"
   ]
  },
  {
   "cell_type": "code",
   "execution_count": 12,
   "metadata": {},
   "outputs": [],
   "source": [
    "df.to_csv('/home/vgautam/conversation_toxicity_results.csv', index=False)"
   ]
  }
 ],
 "metadata": {
  "kernelspec": {
   "display_name": "Python 3",
   "language": "python",
   "name": "python3"
  },
  "language_info": {
   "codemirror_mode": {
    "name": "ipython",
    "version": 3
   },
   "file_extension": ".py",
   "mimetype": "text/x-python",
   "name": "python",
   "nbconvert_exporter": "python",
   "pygments_lexer": "ipython3",
   "version": "3.5.6"
  }
 },
 "nbformat": 4,
 "nbformat_minor": 2
}
