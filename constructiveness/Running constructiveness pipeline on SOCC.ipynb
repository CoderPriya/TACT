{
 "cells": [
  {
   "cell_type": "markdown",
   "metadata": {},
   "source": [
    "# Running constructiveness on SOCC comments"
   ]
  },
  {
   "cell_type": "code",
   "execution_count": 1,
   "metadata": {},
   "outputs": [],
   "source": [
    "import pandas as pd\n",
    "import os\n",
    "import csv\n",
    "import json\n",
    "import sys\n",
    "import random\n",
    "sys.path.append('../source/modeling/')\n",
    "sys.path.append('../')\n",
    "from config import Config"
   ]
  },
  {
   "cell_type": "code",
   "execution_count": 2,
   "metadata": {
    "scrolled": false
   },
   "outputs": [
    {
     "name": "stdout",
     "output_type": "stream",
     "text": [
      "Could not convert the string:  b'\\xc3\\n'\n",
      "Could not convert the string:  b'\\xe2\\x98\\n'\n",
      "Could not convert the string:  b'\\xe2\\x80\\n'\n",
      "Could not convert the string:  b'\\xe2\\x96\\n'\n",
      "Could not convert the string:  b'\\xe2\\x8b\\n'\n",
      "Could not convert the string:  b'\\xc3\\n'\n"
     ]
    },
    {
     "name": "stderr",
     "output_type": "stream",
     "text": [
      "/home/vgautam/anaconda3/envs/usra/lib/python3.5/site-packages/sklearn/ensemble/weight_boosting.py:29: DeprecationWarning: numpy.core.umath_tests is an internal NumPy module and should not be imported. It will be removed in a future NumPy release.\n",
      "  from numpy.core.umath_tests import inner1d\n"
     ]
    },
    {
     "name": "stdout",
     "output_type": "stream",
     "text": [
      "INFO:tensorflow:Restoring parameters from /home/vgautam/data/Constructiveness_public/models/SOCC_bilstm.tflearn\n"
     ]
    }
   ],
   "source": [
    "from constructiveness_predictor import ConstructivenessPredictor\n",
    "\n",
    "# Load models\n",
    "predictor = ConstructivenessPredictor()\n",
    "\n",
    "from flask import Flask\n",
    "from flask import render_template, request, jsonify"
   ]
  },
  {
   "cell_type": "markdown",
   "metadata": {},
   "source": [
    "## Testing"
   ]
  },
  {
   "cell_type": "code",
   "execution_count": 3,
   "metadata": {},
   "outputs": [],
   "source": [
    "text = 'Allowing mercenaries to run the war is a truly frightening development. Contractors should only be used where the US Army truly lacks resources or expertise. If the Afghan government has any sensible people in charge who care for their country, they should vigorously protest the decision to hand the war effort over to mercenaries. This is a sure way to increase the moral hazards a thousand fold, hide war crimes, and increase corruption beyond even the high levels that exist today.'\n",
    "selected_model = 'svm'"
   ]
  },
  {
   "cell_type": "code",
   "execution_count": 4,
   "metadata": {},
   "outputs": [
    {
     "name": "stdout",
     "output_type": "stream",
     "text": [
      "  constructive                                    pp_comment_text\n",
      "0            ?  Allowing mercenaries to run the war is a truly...\n",
      "data_df (1, 2)\n",
      "comment_column:  pp_comment_text\n",
      "Could not convert the string:  b'\\xc3\\n'\n",
      "Could not convert the string:  b'\\xe2\\x98\\n'\n",
      "Could not convert the string:  b'\\xe2\\x80\\n'\n",
      "Could not convert the string:  b'\\xe2\\x96\\n'\n",
      "Could not convert the string:  b'\\xe2\\x8b\\n'\n",
      "Could not convert the string:  b'\\xc3\\n'\n",
      "Index(['constructive', 'pp_comment_text'], dtype='object')\n",
      "(1, 2)\n"
     ]
    },
    {
     "data": {
      "text/plain": [
       "'CONSTRUCTIVE'"
      ]
     },
     "execution_count": 4,
     "metadata": {},
     "output_type": "execute_result"
    }
   ],
   "source": [
    "predictor.predict_svm(text)"
   ]
  },
  {
   "cell_type": "markdown",
   "metadata": {},
   "source": [
    "## Reading in SOCC data"
   ]
  },
  {
   "cell_type": "code",
   "execution_count": 5,
   "metadata": {},
   "outputs": [],
   "source": [
    "df = pd.DataFrame(pd.read_csv('/home/vgautam/SOCC/raw/gnm_comments.csv', low_memory=False)['comment_text'].rename('pp_comment_text'))"
   ]
  },
  {
   "cell_type": "code",
   "execution_count": 6,
   "metadata": {},
   "outputs": [
    {
     "data": {
      "text/html": [
       "<div>\n",
       "<style scoped>\n",
       "    .dataframe tbody tr th:only-of-type {\n",
       "        vertical-align: middle;\n",
       "    }\n",
       "\n",
       "    .dataframe tbody tr th {\n",
       "        vertical-align: top;\n",
       "    }\n",
       "\n",
       "    .dataframe thead th {\n",
       "        text-align: right;\n",
       "    }\n",
       "</style>\n",
       "<table border=\"1\" class=\"dataframe\">\n",
       "  <thead>\n",
       "    <tr style=\"text-align: right;\">\n",
       "      <th></th>\n",
       "      <th>pp_comment_text</th>\n",
       "    </tr>\n",
       "  </thead>\n",
       "  <tbody>\n",
       "    <tr>\n",
       "      <th>0</th>\n",
       "      <td>I think the program needs some work and probab...</td>\n",
       "    </tr>\n",
       "    <tr>\n",
       "      <th>1</th>\n",
       "      <td>This is just 'offshoring' in reverse as well a...</td>\n",
       "    </tr>\n",
       "    <tr>\n",
       "      <th>2</th>\n",
       "      <td>How do you spell exploitation? This is a disgu...</td>\n",
       "    </tr>\n",
       "    <tr>\n",
       "      <th>3</th>\n",
       "      <td>TFWs have a place in the economy. Most Canadia...</td>\n",
       "    </tr>\n",
       "    <tr>\n",
       "      <th>4</th>\n",
       "      <td>Why should temporary workers get paid more?? H...</td>\n",
       "    </tr>\n",
       "  </tbody>\n",
       "</table>\n",
       "</div>"
      ],
      "text/plain": [
       "                                     pp_comment_text\n",
       "0  I think the program needs some work and probab...\n",
       "1  This is just 'offshoring' in reverse as well a...\n",
       "2  How do you spell exploitation? This is a disgu...\n",
       "3  TFWs have a place in the economy. Most Canadia...\n",
       "4  Why should temporary workers get paid more?? H..."
      ]
     },
     "execution_count": 6,
     "metadata": {},
     "output_type": "execute_result"
    }
   ],
   "source": [
    "df.head()"
   ]
  },
  {
   "cell_type": "markdown",
   "metadata": {},
   "source": [
    "## Predicting constructiveness"
   ]
  },
  {
   "cell_type": "code",
   "execution_count": null,
   "metadata": {},
   "outputs": [
    {
     "name": "stdout",
     "output_type": "stream",
     "text": [
      "data_df (663173, 2)\n",
      "comment_column:  pp_comment_text\n",
      "Could not convert the string:  b'\\xc3\\n'\n",
      "Could not convert the string:  b'\\xe2\\x98\\n'\n",
      "Could not convert the string:  b'\\xe2\\x80\\n'\n",
      "Could not convert the string:  b'\\xe2\\x96\\n'\n",
      "Could not convert the string:  b'\\xe2\\x8b\\n'\n",
      "Could not convert the string:  b'\\xc3\\n'\n",
      "Index(['pp_comment_text', 'constructive'], dtype='object')\n",
      "(663173, 2)\n",
      "*****features extracted*****\n",
      "*****Got features df*****\n",
      "Index(['pp_comment_text', 'constructive', 'has_conjunctions_and_connectives',\n",
      "       'has_stance_adverbials', 'has_reasoning_verbs', 'has_modals',\n",
      "       'has_shell_nouns', 'length', 'average_word_length', 'ncaps', 'noov',\n",
      "       'readability_score', 'personal_exp_score', 'named_entity_count',\n",
      "       'nSents', 'avg_words_per_sent', 'pos'],\n",
      "      dtype='object')\n"
     ]
    }
   ],
   "source": [
    "predictor.predict_svm_batch(df, output_csv='/home/vgautam/constructiveness_results.csv')"
   ]
  },
  {
   "cell_type": "markdown",
   "metadata": {},
   "source": [
    "## Preview of results"
   ]
  },
  {
   "cell_type": "code",
   "execution_count": null,
   "metadata": {},
   "outputs": [],
   "source": [
    "pd.read_csv('/home/vgautam/constructiveness_results.csv')[['pp_comment_text', 'constructive_prediction']].head(10)"
   ]
  }
 ],
 "metadata": {
  "kernelspec": {
   "display_name": "Python 3",
   "language": "python",
   "name": "python3"
  },
  "language_info": {
   "codemirror_mode": {
    "name": "ipython",
    "version": 3
   },
   "file_extension": ".py",
   "mimetype": "text/x-python",
   "name": "python",
   "nbconvert_exporter": "python",
   "pygments_lexer": "ipython3",
   "version": "3.5.6"
  }
 },
 "nbformat": 4,
 "nbformat_minor": 2
}
