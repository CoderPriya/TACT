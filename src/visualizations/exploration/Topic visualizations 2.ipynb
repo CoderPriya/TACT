{
 "cells": [
  {
   "cell_type": "markdown",
   "metadata": {},
   "source": [
    "# Topic Modelling Visualizations"
   ]
  },
  {
   "cell_type": "markdown",
   "metadata": {},
   "source": [
    "I want to visualize\n",
    "* the topics of all the articles\n",
    "* the relative frequencies of comments on different topics\n",
    "* the relationship between topics in comments to topics in articles\n",
    "* the relationship between topics in articles and the constructiveness of the comments\n",
    "* the relationship between topics in articles and the toxicity of the comments\n",
    "* the relationship between topics in comments and the constructiveness of the comments\n",
    "* the relationship between topics in comments and the toxicity of the comments\n",
    "* general trends in the constructiveness of the comments\n",
    "* general trends in the toxicity of the comments"
   ]
  },
  {
   "cell_type": "code",
   "execution_count": 133,
   "metadata": {},
   "outputs": [],
   "source": [
    "import numpy as np\n",
    "import pandas as pd\n",
    "from wordcloud import WordCloud\n",
    "import seaborn as sns\n",
    "import matplotlib.pyplot as plt\n",
    "import nltk\n",
    "import re, math\n",
    "import operator"
   ]
  },
  {
   "cell_type": "code",
   "execution_count": 142,
   "metadata": {},
   "outputs": [],
   "source": [
    "TOPIC_MODELLING_DIR = '/Users/vasundhara/sfuvault/Discourse-Lab/Data/Topic_Modelling/'\n",
    "SOCC_DIR = '/Users/vasundhara/sfuvault/Discourse-Lab/Data/Globe_and_Mail/'"
   ]
  },
  {
   "cell_type": "code",
   "execution_count": 58,
   "metadata": {},
   "outputs": [],
   "source": [
    "def deSerializeList(line):\n",
    "    return [token[1:-1] for token in line.split(', ')]"
   ]
  },
  {
   "cell_type": "code",
   "execution_count": 125,
   "metadata": {},
   "outputs": [],
   "source": [
    "def deSerializeListOfTuples(line):\n",
    "    tokens = re.findall('(\\d+(\\.\\d+)*)', line.rstrip()[1:-1])\n",
    "    tokens = [t for t,_ in tokens]\n",
    "    tokens_list = []\n",
    "    for i in range(math.ceil(len(tokens)/2)):\n",
    "        tokens_list.append((int(tokens[2*i]), float(tokens[2*i + 1])))\n",
    "    return tokens_list\n",
    "#     return [token[1:-1] for token in line.split(', ')]"
   ]
  },
  {
   "cell_type": "code",
   "execution_count": 59,
   "metadata": {},
   "outputs": [
    {
     "name": "stdout",
     "output_type": "stream",
     "text": [
      "0: ['province', 'McGuinty', 'Drummond', 'gas', 'Duncan', 'point', 'budget', 'bill', 'game', 'premier']\n",
      "1: ['Romney', 'school', 'local', 'life', 'personal', 'North', 'air', 'home', 'ministers', 'mother']\n",
      "2: ['city', 'Ford', 'mayor', 'report', 'police', 'sector', 'work', 'Toronto', 'budget', 'costs']\n",
      "3: ['NDP', 'Ontario', 'government', 'party', 'Harper', 'Mulcair', 'health', 'Liberals', 'spending', 'tax']\n",
      "4: ['China', 'Santorum', 'Gingrich', 'leadership', 'Republican', 'trade', 'free', 'human', 'Republicans', 'House']\n",
      "5: ['program', 'global', 'Charest', 'death', 'talk', 'Trade', 'legislation', 'wanted', 'apparently', 'Commons']\n",
      "6: ['Redford', 'candidates', 'ago', 'problem', 'sex', 'matter', 'community', 'months', 'hold', 'kind']\n",
      "7: ['aboriginal', 'natural', 'communities', 'protection', 'reserves', 'lead', 'reality', 'leading', 'Crown', 'suggest']\n",
      "8: ['Obama', 'age', 'Internet', 'judge', 'Senate', 'Thomas', 'conservatives', 'raised', 'media', 'success']\n",
      "9: ['public', 'people', 'system', 'money', 'Vancouver', 'world', 'law', 'companies', 'week', 'cost']\n",
      "10: ['Russia', 'development', 'case', 'end', 'approach', 'military', 'violence', 'Putin', 'national', 'measures']\n",
      "11: ['Quebec', 'care', 'oil', 'Alberta', 'education', 'transit', 'energy', 'child', 'sands', 'pipeline']\n",
      "12: ['Clark', 'Canadian', 'Ottawa', 'support', 'nations', 'members', 'Israel', 'countries', 'foreign', 'win']\n",
      "13: ['council', 'Chinese', 'growth', 'question', 'deficit', 'British', 'Iran', 'funding', 'term', 'court']\n",
      "14: ['students', 'women', 'University', 'month', 'today', 'panel', 'Cullen', 'woman', 'expect', 'religion']\n"
     ]
    }
   ],
   "source": [
    "tokens_lists = []\n",
    "\n",
    "with open(TOPIC_MODELLING_DIR + 'topics.txt', 'r+') as fo:\n",
    "    for line in fo.readlines():\n",
    "        stripped = line.rstrip()\n",
    "        match = re.match('\\d+: (.*)', stripped)\n",
    "        tokens_lists.append(deSerializeList(match.group(1)[1:-1]))\n",
    "        print(stripped)"
   ]
  },
  {
   "cell_type": "code",
   "execution_count": 130,
   "metadata": {},
   "outputs": [],
   "source": [
    "socc_articles_topics = []\n",
    "with open(TOPIC_MODELLING_DIR + 'results/socc_articles_topics.txt', 'r+') as fo:\n",
    "    for line in fo.readlines():\n",
    "        socc_articles_topics.append(deSerializeListOfTuples(line.rstrip()))"
   ]
  },
  {
   "cell_type": "code",
   "execution_count": 135,
   "metadata": {},
   "outputs": [],
   "source": [
    "socc_article_main_topics = []\n",
    "for socc_article_topics in socc_articles_topics:\n",
    "    main_topic = max(socc_article_topics, key=operator.ite=mgetter(1))[0]\n",
    "#     print(main_topic)\n",
    "    socc_article_main_topics.append(main_topic)"
   ]
  },
  {
   "cell_type": "code",
   "execution_count": 140,
   "metadata": {},
   "outputs": [],
   "source": [
    "socc_comments_topics = []\n",
    "with open(TOPIC_MODELLING_DIR + 'results/socc_comments_topics.txt', 'r+') as fo:\n",
    "    for line in fo.readlines():\n",
    "        socc_comments_topics.append(deSerializeListOfTuples(line.rstrip()))"
   ]
  },
  {
   "cell_type": "code",
   "execution_count": 193,
   "metadata": {},
   "outputs": [],
   "source": [
    "socc_comments_main_topics = []\n",
    "for socc_comment_topics in socc_comments_topics:\n",
    "    main_topic = max(socc_comment_topics, key=operator.itemgetter(1))[0]\n",
    "#     print(main_topic)\n",
    "    socc_comments_main_topics.append(main_topic)"
   ]
  },
  {
   "cell_type": "code",
   "execution_count": 146,
   "metadata": {},
   "outputs": [],
   "source": [
    "socc_articles_df = pd.read_csv(SOCC_DIR + 'CSVs/gnm_articles.csv', low_memory=False)"
   ]
  },
  {
   "cell_type": "code",
   "execution_count": 179,
   "metadata": {},
   "outputs": [],
   "source": [
    "socc_articles_merged = pd.merge(socc_articles_df,\n",
    "                               pd.DataFrame(socc_article_main_topics).rename({0 : 'main_topic'}, axis=1),\n",
    "                               left_index=True, right_index=True)"
   ]
  },
  {
   "cell_type": "code",
   "execution_count": 180,
   "metadata": {},
   "outputs": [],
   "source": [
    "socc_comments_df = pd.read_csv(SOCC_DIR + 'CSVs/gnm_comments.csv', low_memory=False)"
   ]
  },
  {
   "cell_type": "code",
   "execution_count": 181,
   "metadata": {},
   "outputs": [],
   "source": [
    "comment_counts_df = socc_comments_df.groupby('article_id').count()['comment_text'].rename('comment_count').reset_index()"
   ]
  },
  {
   "cell_type": "code",
   "execution_count": 182,
   "metadata": {},
   "outputs": [],
   "source": [
    "socc_articles_merged = pd.merge(socc_articles_merged, comment_counts_df, on='article_id', how='left')"
   ]
  },
  {
   "cell_type": "code",
   "execution_count": 183,
   "metadata": {},
   "outputs": [],
   "source": [
    "socc_articles_merged.fillna(value={'comment_count' : 0}, inplace=True)"
   ]
  },
  {
   "cell_type": "code",
   "execution_count": 190,
   "metadata": {},
   "outputs": [],
   "source": [
    "merged = socc_articles_merged.groupby('main_topic')"
   ]
  },
  {
   "cell_type": "code",
   "execution_count": 191,
   "metadata": {},
   "outputs": [
    {
     "data": {
      "text/plain": [
       "main_topic\n",
       "0     121.500000\n",
       "1     179.666667\n",
       "2      60.755981\n",
       "3      79.349968\n",
       "4      89.136364\n",
       "5     766.000000\n",
       "6     102.486486\n",
       "7     203.166667\n",
       "8     191.095238\n",
       "9      56.640464\n",
       "10     73.888889\n",
       "11     81.935780\n",
       "12     48.915323\n",
       "13     57.293005\n",
       "14    113.732558\n",
       "Name: comment_count, dtype: float64"
      ]
     },
     "execution_count": 191,
     "metadata": {},
     "output_type": "execute_result"
    }
   ],
   "source": [
    "merged.sum()['comment_count'] / merged.count()['comment_count']"
   ]
  },
  {
   "cell_type": "code",
   "execution_count": 192,
   "metadata": {},
   "outputs": [
    {
     "data": {
      "text/plain": [
       "main_topic\n",
       "0      60.428571\n",
       "1      69.000000\n",
       "2      24.645933\n",
       "3      31.826279\n",
       "4      33.969697\n",
       "5     306.000000\n",
       "6      39.783784\n",
       "7      78.000000\n",
       "8      84.000000\n",
       "9      23.771773\n",
       "10     30.700000\n",
       "11     30.012844\n",
       "12     20.556452\n",
       "13     24.266165\n",
       "14     41.593023\n",
       "dtype: float64"
      ]
     },
     "execution_count": 192,
     "metadata": {},
     "output_type": "execute_result"
    }
   ],
   "source": [
    "merged.sum()['ntop_level_comments'] / merged.count()['comment_count']"
   ]
  },
  {
   "cell_type": "code",
   "execution_count": 209,
   "metadata": {},
   "outputs": [
    {
     "data": {
      "text/plain": [
       "13      39.557137\n",
       "12      60.915323\n",
       "10      70.666667\n",
       "11      71.829358\n",
       "9       73.196070\n",
       "3       81.037271\n",
       "4      100.518182\n",
       "2      101.574163\n",
       "14     161.360465\n",
       "8      242.619048\n",
       "6      385.459459\n",
       "7      523.500000\n",
       "1      653.833333\n",
       "0      703.857143\n",
       "5     3056.000000\n",
       "Name: main_topic, dtype: float64"
      ]
     },
     "execution_count": 209,
     "metadata": {},
     "output_type": "execute_result"
    }
   ],
   "source": [
    "(pd.DataFrame(socc_comments_main_topics).rename({0 : 'main_topic'}, axis=1)['main_topic'].value_counts() / socc_articles_merged['main_topic'].value_counts()).sort_values()"
   ]
  },
  {
   "cell_type": "code",
   "execution_count": 227,
   "metadata": {},
   "outputs": [],
   "source": [
    "socc_constructiveness = pd.read_csv('/Users/vasundhara/sfuvault/Discourse-Lab/Data/Globe_and_Mail/Globe_analysis/socc_constructiveness_predictions.csv')"
   ]
  },
  {
   "cell_type": "code",
   "execution_count": 228,
   "metadata": {},
   "outputs": [],
   "source": [
    "socc_comments_stopped = pd.read_csv(TOPIC_MODELLING_DIR + 'stopwords_removed/socc_comments.csv', header=None).rename({0 : 'stopped_text'}, axis=1)"
   ]
  },
  {
   "cell_type": "code",
   "execution_count": 229,
   "metadata": {},
   "outputs": [],
   "source": [
    "socc_combined = socc_constructiveness.join(socc_comments_stopped).dropna()"
   ]
  },
  {
   "cell_type": "code",
   "execution_count": 230,
   "metadata": {},
   "outputs": [
    {
     "data": {
      "text/html": [
       "<div>\n",
       "<style scoped>\n",
       "    .dataframe tbody tr th:only-of-type {\n",
       "        vertical-align: middle;\n",
       "    }\n",
       "\n",
       "    .dataframe tbody tr th {\n",
       "        vertical-align: top;\n",
       "    }\n",
       "\n",
       "    .dataframe thead th {\n",
       "        text-align: right;\n",
       "    }\n",
       "</style>\n",
       "<table border=\"1\" class=\"dataframe\">\n",
       "  <thead>\n",
       "    <tr style=\"text-align: right;\">\n",
       "      <th></th>\n",
       "      <th>Constructive</th>\n",
       "      <th>Feature</th>\n",
       "      <th>Value</th>\n",
       "    </tr>\n",
       "  </thead>\n",
       "  <tbody>\n",
       "    <tr>\n",
       "      <th>0</th>\n",
       "      <td>0</td>\n",
       "      <td>has_conjunctions_and_connectives</td>\n",
       "      <td>0.850194</td>\n",
       "    </tr>\n",
       "    <tr>\n",
       "      <th>1</th>\n",
       "      <td>1</td>\n",
       "      <td>has_conjunctions_and_connectives</td>\n",
       "      <td>0.999728</td>\n",
       "    </tr>\n",
       "    <tr>\n",
       "      <th>2</th>\n",
       "      <td>0</td>\n",
       "      <td>has_stance_adverbials</td>\n",
       "      <td>0.096266</td>\n",
       "    </tr>\n",
       "    <tr>\n",
       "      <th>3</th>\n",
       "      <td>1</td>\n",
       "      <td>has_stance_adverbials</td>\n",
       "      <td>0.350190</td>\n",
       "    </tr>\n",
       "    <tr>\n",
       "      <th>4</th>\n",
       "      <td>0</td>\n",
       "      <td>has_reasoning_verbs</td>\n",
       "      <td>0.668165</td>\n",
       "    </tr>\n",
       "  </tbody>\n",
       "</table>\n",
       "</div>"
      ],
      "text/plain": [
       "   Constructive                           Feature     Value\n",
       "0             0  has_conjunctions_and_connectives  0.850194\n",
       "1             1  has_conjunctions_and_connectives  0.999728\n",
       "2             0             has_stance_adverbials  0.096266\n",
       "3             1             has_stance_adverbials  0.350190\n",
       "4             0               has_reasoning_verbs  0.668165"
      ]
     },
     "execution_count": 230,
     "metadata": {},
     "output_type": "execute_result"
    }
   ],
   "source": [
    "socc_const_plot = socc_combined.groupby('constructive_prediction').mean().reset_index().melt(id_vars=['constructive_prediction']).rename({'variable' : 'Feature', 'value' : 'Value', 'constructive_prediction' : 'Constructive'}, axis=1)\n",
    "socc_const_plot.head()"
   ]
  },
  {
   "cell_type": "code",
   "execution_count": 231,
   "metadata": {},
   "outputs": [
    {
     "data": {
      "text/plain": [
       "{'average_word_length',\n",
       " 'avg_words_per_sent',\n",
       " 'has_conjunctions_and_connectives',\n",
       " 'has_modals',\n",
       " 'has_reasoning_verbs',\n",
       " 'has_shell_nouns',\n",
       " 'has_stance_adverbials',\n",
       " 'length',\n",
       " 'nSents',\n",
       " 'named_entity_count',\n",
       " 'ncaps',\n",
       " 'noov',\n",
       " 'personal_exp_score',\n",
       " 'readability_score'}"
      ]
     },
     "execution_count": 231,
     "metadata": {},
     "output_type": "execute_result"
    }
   ],
   "source": [
    "set(list(socc_const_plot['Feature']))"
   ]
  },
  {
   "cell_type": "code",
   "execution_count": 275,
   "metadata": {},
   "outputs": [
    {
     "data": {
      "image/png": "[encoded data removed]",
      "text/plain": [
       "<Figure size 720x720 with 6 Axes>"
      ]
     },
     "metadata": {},
     "output_type": "display_data"
    }
   ],
   "source": [
    "fig = plt.figure(figsize=(10,10))\n",
    "\n",
    "features = ['length', 'has_modals', 'readability_score', 'named_entity_count', 'has_reasoning_verbs', 'avg_words_per_sent']\n",
    "human_readable = ['Number of words', 'Has Modals', 'Readability Score', 'Named Entity Count', 'Has Reasoning Verbs', 'Average words per sentence']\n",
    "# features = set(list(socc_const_plot['Feature']))\n",
    "axes = []\n",
    "\n",
    "for index,feature in enumerate(features):\n",
    "    ax = plt.subplot(2, 3, index+1)\n",
    "    ax.set_title(human_readable[index])#, fontsize=30)\n",
    "    sns.barplot(socc_const_plot[socc_const_plot['Feature'] == feature]['Constructive'],\n",
    "                socc_const_plot[socc_const_plot['Feature'] == feature]['Value'])#,\n",
    "#                 palette=['yellow', 'blue'])\n",
    "    plt.xlabel('')\n",
    "    plt.ylabel('')\n",
    "    ax.set_xticklabels(['Non-constructive', 'Constructive'])\n",
    "plt.tight_layout()\n",
    "plt.savefig('constructiveness_system.png')"
   ]
  },
  {
   "cell_type": "code",
   "execution_count": 233,
   "metadata": {},
   "outputs": [],
   "source": [
    "def flatten(series):\n",
    "    tokens = list(word\n",
    "     for comment in series.str.split()\n",
    "     for word in comment)\n",
    "    return pd.DataFrame(tokens).rename({0 : 'token'}, axis=1)"
   ]
  },
  {
   "cell_type": "code",
   "execution_count": 244,
   "metadata": {
    "scrolled": true
   },
   "outputs": [
    {
     "data": {
      "text/html": [
       "<div>\n",
       "<style scoped>\n",
       "    .dataframe tbody tr th:only-of-type {\n",
       "        vertical-align: middle;\n",
       "    }\n",
       "\n",
       "    .dataframe tbody tr th {\n",
       "        vertical-align: top;\n",
       "    }\n",
       "\n",
       "    .dataframe thead th {\n",
       "        text-align: right;\n",
       "    }\n",
       "</style>\n",
       "<table border=\"1\" class=\"dataframe\">\n",
       "  <thead>\n",
       "    <tr style=\"text-align: right;\">\n",
       "      <th></th>\n",
       "      <th>token</th>\n",
       "      <th>frequency</th>\n",
       "    </tr>\n",
       "  </thead>\n",
       "  <tbody>\n",
       "    <tr>\n",
       "      <th>0</th>\n",
       "      <td>people</td>\n",
       "      <td>69230</td>\n",
       "    </tr>\n",
       "    <tr>\n",
       "      <th>1</th>\n",
       "      <td>Canada</td>\n",
       "      <td>64639</td>\n",
       "    </tr>\n",
       "    <tr>\n",
       "      <th>2</th>\n",
       "      <td>Harper</td>\n",
       "      <td>50718</td>\n",
       "    </tr>\n",
       "    <tr>\n",
       "      <th>3</th>\n",
       "      <td>government</td>\n",
       "      <td>44924</td>\n",
       "    </tr>\n",
       "    <tr>\n",
       "      <th>4</th>\n",
       "      <td>time</td>\n",
       "      <td>36284</td>\n",
       "    </tr>\n",
       "  </tbody>\n",
       "</table>\n",
       "</div>"
      ],
      "text/plain": [
       "        token  frequency\n",
       "0      people      69230\n",
       "1      Canada      64639\n",
       "2      Harper      50718\n",
       "3  government      44924\n",
       "4        time      36284"
      ]
     },
     "execution_count": 244,
     "metadata": {},
     "output_type": "execute_result"
    }
   ],
   "source": [
    "flattened = flatten(socc_combined.groupby('constructive_prediction').get_group(0)['stopped_text'])\n",
    "frequencies_non_constructive = flattened['token'].value_counts().head(100).reset_index().rename({'index' : 'token', 'token' : 'frequency'}, axis=1)\n",
    "frequencies_non_constructive.head()"
   ]
  },
  {
   "cell_type": "code",
   "execution_count": 245,
   "metadata": {},
   "outputs": [],
   "source": [
    "non_constructive_text = ''\n",
    "min_freq = frequencies_non_constructive['frequency'].min()\n",
    "for i,row in frequencies_non_constructive.iterrows():\n",
    "    non_constructive_text += (row['token'] + ' ') * math.floor(row['frequency'] / min_freq)\n",
    "    \n",
    "with open('non_constructive_text.txt', 'w+') as fo:\n",
    "    fo.write(non_constructive_text)"
   ]
  },
  {
   "cell_type": "code",
   "execution_count": 246,
   "metadata": {},
   "outputs": [
    {
     "data": {
      "text/html": [
       "<div>\n",
       "<style scoped>\n",
       "    .dataframe tbody tr th:only-of-type {\n",
       "        vertical-align: middle;\n",
       "    }\n",
       "\n",
       "    .dataframe tbody tr th {\n",
       "        vertical-align: top;\n",
       "    }\n",
       "\n",
       "    .dataframe thead th {\n",
       "        text-align: right;\n",
       "    }\n",
       "</style>\n",
       "<table border=\"1\" class=\"dataframe\">\n",
       "  <thead>\n",
       "    <tr style=\"text-align: right;\">\n",
       "      <th></th>\n",
       "      <th>token</th>\n",
       "      <th>frequency</th>\n",
       "    </tr>\n",
       "  </thead>\n",
       "  <tbody>\n",
       "    <tr>\n",
       "      <th>0</th>\n",
       "      <td>people</td>\n",
       "      <td>42862</td>\n",
       "    </tr>\n",
       "    <tr>\n",
       "      <th>1</th>\n",
       "      <td>Canada</td>\n",
       "      <td>39628</td>\n",
       "    </tr>\n",
       "    <tr>\n",
       "      <th>2</th>\n",
       "      <td>Harper</td>\n",
       "      <td>31015</td>\n",
       "    </tr>\n",
       "    <tr>\n",
       "      <th>3</th>\n",
       "      <td>government</td>\n",
       "      <td>28038</td>\n",
       "    </tr>\n",
       "    <tr>\n",
       "      <th>4</th>\n",
       "      <td>time</td>\n",
       "      <td>22455</td>\n",
       "    </tr>\n",
       "  </tbody>\n",
       "</table>\n",
       "</div>"
      ],
      "text/plain": [
       "        token  frequency\n",
       "0      people      42862\n",
       "1      Canada      39628\n",
       "2      Harper      31015\n",
       "3  government      28038\n",
       "4        time      22455"
      ]
     },
     "execution_count": 246,
     "metadata": {},
     "output_type": "execute_result"
    }
   ],
   "source": [
    "flattened = flatten(socc_combined.groupby('constructive_prediction').get_group(1)['stopped_text'])\n",
    "frequencies_constructive = flattened['token'].value_counts().head(100).reset_index().rename({'index' : 'token', 'token' : 'frequency'}, axis=1)\n",
    "frequencies_constructive.head()"
   ]
  },
  {
   "cell_type": "code",
   "execution_count": 247,
   "metadata": {},
   "outputs": [],
   "source": [
    "constructive_text = ''\n",
    "min_freq = frequencies_constructive['frequency'].min()\n",
    "for i,row in frequencies_constructive.iterrows():\n",
    "    constructive_text += (row['token'] + ' ') * math.floor(row['frequency'] / min_freq)\n",
    "    \n",
    "with open('constructive_text.txt', 'w+') as fo:\n",
    "    fo.write(constructive_text)"
   ]
  },
  {
   "cell_type": "code",
   "execution_count": 248,
   "metadata": {},
   "outputs": [],
   "source": [
    "socc_toxicity = pd.read_csv('/Users/vasundhara/sfuvault/Discourse-Lab/Data/Globe_and_Mail/Globe_analysis/socc_toxicity_predictions.csv', low_memory=False)"
   ]
  },
  {
   "cell_type": "code",
   "execution_count": 249,
   "metadata": {},
   "outputs": [
    {
     "data": {
      "text/html": [
       "<div>\n",
       "<style scoped>\n",
       "    .dataframe tbody tr th:only-of-type {\n",
       "        vertical-align: middle;\n",
       "    }\n",
       "\n",
       "    .dataframe tbody tr th {\n",
       "        vertical-align: top;\n",
       "    }\n",
       "\n",
       "    .dataframe thead th {\n",
       "        text-align: right;\n",
       "    }\n",
       "</style>\n",
       "<table border=\"1\" class=\"dataframe\">\n",
       "  <thead>\n",
       "    <tr style=\"text-align: right;\">\n",
       "      <th></th>\n",
       "      <th>comment_text</th>\n",
       "      <th>TOXICITY_probability</th>\n",
       "    </tr>\n",
       "  </thead>\n",
       "  <tbody>\n",
       "    <tr>\n",
       "      <th>0</th>\n",
       "      <td>ANy physician or specialist will put a block o...</td>\n",
       "      <td>0.502267</td>\n",
       "    </tr>\n",
       "    <tr>\n",
       "      <th>1</th>\n",
       "      <td>I don't mess around in YOUR contract, don't me...</td>\n",
       "      <td>0.230638</td>\n",
       "    </tr>\n",
       "    <tr>\n",
       "      <th>2</th>\n",
       "      <td>...And the CFIB is an entirely balanced source...</td>\n",
       "      <td>0.118950</td>\n",
       "    </tr>\n",
       "    <tr>\n",
       "      <th>3</th>\n",
       "      <td>ManCityFC: If you think its 'baloney' then you...</td>\n",
       "      <td>0.252292</td>\n",
       "    </tr>\n",
       "    <tr>\n",
       "      <th>4</th>\n",
       "      <td>If you want the market to decide, get ready fo...</td>\n",
       "      <td>0.104049</td>\n",
       "    </tr>\n",
       "  </tbody>\n",
       "</table>\n",
       "</div>"
      ],
      "text/plain": [
       "                                        comment_text  TOXICITY_probability\n",
       "0  ANy physician or specialist will put a block o...              0.502267\n",
       "1  I don't mess around in YOUR contract, don't me...              0.230638\n",
       "2  ...And the CFIB is an entirely balanced source...              0.118950\n",
       "3  ManCityFC: If you think its 'baloney' then you...              0.252292\n",
       "4  If you want the market to decide, get ready fo...              0.104049"
      ]
     },
     "execution_count": 249,
     "metadata": {},
     "output_type": "execute_result"
    }
   ],
   "source": [
    "socc_toxicity[['comment_text', 'TOXICITY_probability']].head()"
   ]
  },
  {
   "cell_type": "code",
   "execution_count": 250,
   "metadata": {},
   "outputs": [
    {
     "data": {
      "text/plain": [
       "<matplotlib.axes._subplots.AxesSubplot at 0x1af5640748>"
      ]
     },
     "execution_count": 250,
     "metadata": {},
     "output_type": "execute_result"
    },
    {
     "data": {
      "image/png": "[encoded data removed]",
      "text/plain": [
       "<Figure size 432x288 with 1 Axes>"
      ]
     },
     "metadata": {
      "needs_background": "light"
     },
     "output_type": "display_data"
    }
   ],
   "source": [
    "sns.distplot(socc_toxicity['TOXICITY_probability'])"
   ]
  },
  {
   "cell_type": "code",
   "execution_count": 259,
   "metadata": {},
   "outputs": [],
   "source": [
    "combined_socc = socc_constructiveness.merge(socc_toxicity, left_on='pp_comment_text', right_on='comment_text')[['pp_comment_text', 'constructive_prediction', 'TOXICITY_probability']].drop_duplicates()"
   ]
  },
  {
   "cell_type": "code",
   "execution_count": 260,
   "metadata": {},
   "outputs": [],
   "source": [
    "tyee_constructiveness = pd.read_csv('/Users/vasundhara/sfuvault/Discourse-Lab/Data/The_Tyee_data/Tyee analysis/tyee_constructiveness_results.csv')\n",
    "tyee_toxicity = pd.read_csv('/Users/vasundhara/sfuvault/Discourse-Lab/Data/The_Tyee_data/Tyee analysis/tyee_toxicity_results.csv')\n",
    "combined_tyee = tyee_constructiveness.merge(tyee_toxicity, on='pp_comment_text', how='outer')[['pp_comment_text', 'constructive_prediction', 'TOXICITY_probability']].drop_duplicates().dropna()"
   ]
  },
  {
   "cell_type": "code",
   "execution_count": 262,
   "metadata": {},
   "outputs": [],
   "source": [
    "conv_constructiveness = pd.read_csv('/Users/vasundhara/sfuvault/Discourse-Lab/Data/The_Conversation_data/Conversation analysis/conversation_constructiveness_results.csv')\n",
    "conv_toxicity = pd.read_csv('/Users/vasundhara/sfuvault/Discourse-Lab/Data/The_Conversation_data/Conversation analysis/conversation_toxicity_results.csv')\n",
    "combined_conv = conv_constructiveness.merge(conv_toxicity, on='pp_comment_text', how='outer')[['pp_comment_text', 'constructive_prediction', 'TOXICITY_probability']].drop_duplicates().dropna()"
   ]
  },
  {
   "cell_type": "code",
   "execution_count": 263,
   "metadata": {},
   "outputs": [],
   "source": [
    "combined = pd.concat([combined_socc, combined_tyee, combined_conv], axis=0)"
   ]
  },
  {
   "cell_type": "code",
   "execution_count": 266,
   "metadata": {},
   "outputs": [],
   "source": [
    "combined['toxicity_category'] = ((np.floor(combined['TOXICITY_probability'] * 100.0) - (np.floor(combined['TOXICITY_probability'] * 100.0) % 10)) + 5).astype(int)"
   ]
  },
  {
   "cell_type": "code",
   "execution_count": 270,
   "metadata": {},
   "outputs": [],
   "source": [
    "combined = combined[combined['TOXICITY_probability'] > 0]"
   ]
  },
  {
   "cell_type": "code",
   "execution_count": 271,
   "metadata": {},
   "outputs": [
    {
     "data": {
      "text/html": [
       "<div>\n",
       "<style scoped>\n",
       "    .dataframe tbody tr th:only-of-type {\n",
       "        vertical-align: middle;\n",
       "    }\n",
       "\n",
       "    .dataframe tbody tr th {\n",
       "        vertical-align: top;\n",
       "    }\n",
       "\n",
       "    .dataframe thead th {\n",
       "        text-align: right;\n",
       "    }\n",
       "</style>\n",
       "<table border=\"1\" class=\"dataframe\">\n",
       "  <thead>\n",
       "    <tr style=\"text-align: right;\">\n",
       "      <th></th>\n",
       "      <th>pp_comment_text</th>\n",
       "      <th>constructive_prediction</th>\n",
       "      <th>TOXICITY_probability</th>\n",
       "      <th>toxicity_category</th>\n",
       "    </tr>\n",
       "  </thead>\n",
       "  <tbody>\n",
       "    <tr>\n",
       "      <th>0</th>\n",
       "      <td>I think the program needs some work and probab...</td>\n",
       "      <td>1.0</td>\n",
       "      <td>0.122059</td>\n",
       "      <td>15</td>\n",
       "    </tr>\n",
       "    <tr>\n",
       "      <th>1</th>\n",
       "      <td>This is just 'offshoring' in reverse as well a...</td>\n",
       "      <td>0.0</td>\n",
       "      <td>0.118150</td>\n",
       "      <td>15</td>\n",
       "    </tr>\n",
       "    <tr>\n",
       "      <th>2</th>\n",
       "      <td>How do you spell exploitation? This is a disgu...</td>\n",
       "      <td>0.0</td>\n",
       "      <td>0.433540</td>\n",
       "      <td>45</td>\n",
       "    </tr>\n",
       "    <tr>\n",
       "      <th>3</th>\n",
       "      <td>TFWs have a place in the economy. Most Canadia...</td>\n",
       "      <td>1.0</td>\n",
       "      <td>0.129228</td>\n",
       "      <td>15</td>\n",
       "    </tr>\n",
       "    <tr>\n",
       "      <th>4</th>\n",
       "      <td>Why should temporary workers get paid more?? H...</td>\n",
       "      <td>1.0</td>\n",
       "      <td>0.159348</td>\n",
       "      <td>15</td>\n",
       "    </tr>\n",
       "  </tbody>\n",
       "</table>\n",
       "</div>"
      ],
      "text/plain": [
       "                                     pp_comment_text  constructive_prediction  \\\n",
       "0  I think the program needs some work and probab...                      1.0   \n",
       "1  This is just 'offshoring' in reverse as well a...                      0.0   \n",
       "2  How do you spell exploitation? This is a disgu...                      0.0   \n",
       "3  TFWs have a place in the economy. Most Canadia...                      1.0   \n",
       "4  Why should temporary workers get paid more?? H...                      1.0   \n",
       "\n",
       "   TOXICITY_probability  toxicity_category  \n",
       "0              0.122059                 15  \n",
       "1              0.118150                 15  \n",
       "2              0.433540                 45  \n",
       "3              0.129228                 15  \n",
       "4              0.159348                 15  "
      ]
     },
     "execution_count": 271,
     "metadata": {},
     "output_type": "execute_result"
    }
   ],
   "source": [
    "combined.head()"
   ]
  },
  {
   "cell_type": "code",
   "execution_count": 361,
   "metadata": {},
   "outputs": [],
   "source": [
    "grouped = combined.groupby(['constructive_prediction', 'toxicity_category']).count().reset_index()\n",
    "pivoted = grouped.pivot('constructive_prediction', 'toxicity_category')['pp_comment_text']"
   ]
  },
  {
   "cell_type": "code",
   "execution_count": 362,
   "metadata": {
    "scrolled": true
   },
   "outputs": [
    {
     "data": {
      "text/html": [
       "<div>\n",
       "<style scoped>\n",
       "    .dataframe tbody tr th:only-of-type {\n",
       "        vertical-align: middle;\n",
       "    }\n",
       "\n",
       "    .dataframe tbody tr th {\n",
       "        vertical-align: top;\n",
       "    }\n",
       "\n",
       "    .dataframe thead th {\n",
       "        text-align: right;\n",
       "    }\n",
       "</style>\n",
       "<table border=\"1\" class=\"dataframe\">\n",
       "  <thead>\n",
       "    <tr style=\"text-align: right;\">\n",
       "      <th></th>\n",
       "      <th>constructive_prediction</th>\n",
       "      <th>toxicity_category</th>\n",
       "      <th>pp_comment_text</th>\n",
       "      <th>TOXICITY_probability</th>\n",
       "    </tr>\n",
       "  </thead>\n",
       "  <tbody>\n",
       "    <tr>\n",
       "      <th>0</th>\n",
       "      <td>0.0</td>\n",
       "      <td>5</td>\n",
       "      <td>212134</td>\n",
       "      <td>212134</td>\n",
       "    </tr>\n",
       "    <tr>\n",
       "      <th>1</th>\n",
       "      <td>0.0</td>\n",
       "      <td>15</td>\n",
       "      <td>212419</td>\n",
       "      <td>212419</td>\n",
       "    </tr>\n",
       "    <tr>\n",
       "      <th>2</th>\n",
       "      <td>0.0</td>\n",
       "      <td>25</td>\n",
       "      <td>130101</td>\n",
       "      <td>130101</td>\n",
       "    </tr>\n",
       "    <tr>\n",
       "      <th>3</th>\n",
       "      <td>0.0</td>\n",
       "      <td>35</td>\n",
       "      <td>77035</td>\n",
       "      <td>77035</td>\n",
       "    </tr>\n",
       "    <tr>\n",
       "      <th>4</th>\n",
       "      <td>0.0</td>\n",
       "      <td>45</td>\n",
       "      <td>45179</td>\n",
       "      <td>45179</td>\n",
       "    </tr>\n",
       "  </tbody>\n",
       "</table>\n",
       "</div>"
      ],
      "text/plain": [
       "   constructive_prediction  toxicity_category  pp_comment_text  \\\n",
       "0                      0.0                  5           212134   \n",
       "1                      0.0                 15           212419   \n",
       "2                      0.0                 25           130101   \n",
       "3                      0.0                 35            77035   \n",
       "4                      0.0                 45            45179   \n",
       "\n",
       "   TOXICITY_probability  \n",
       "0                212134  \n",
       "1                212419  \n",
       "2                130101  \n",
       "3                 77035  \n",
       "4                 45179  "
      ]
     },
     "execution_count": 362,
     "metadata": {},
     "output_type": "execute_result"
    }
   ],
   "source": [
    "grouped.head()"
   ]
  },
  {
   "cell_type": "code",
   "execution_count": 363,
   "metadata": {},
   "outputs": [],
   "source": [
    "label_df = pd.DataFrame([[0, 'Non-constructive'], [1, 'Constructive']], columns=['constructive_prediction', 'Prediction'])\n",
    "grouped = grouped.merge(label_df, how='left', on='constructive_prediction')"
   ]
  },
  {
   "cell_type": "code",
   "execution_count": 367,
   "metadata": {},
   "outputs": [
    {
     "data": {
      "image/png": "[encoded data removed]",
      "text/plain": [
       "<Figure size 1080x720 with 1 Axes>"
      ]
     },
     "metadata": {},
     "output_type": "display_data"
    }
   ],
   "source": [
    "sns.set_context('talk')\n",
    "sns.set(rc={'figure.figsize':(15,10)})\n",
    "sns.set(style=\"whitegrid\")\n",
    "sns.lineplot(data=grouped , x='toxicity_category', y='pp_comment_text',\n",
    "             hue='Prediction', style='Prediction',\n",
    "             palette=\"tab10\", linewidth=3.5, markers=True,\n",
    "             legend=False, markersize=20)\n",
    "plt.xlabel('Percentage toxicity', fontsize=20)\n",
    "plt.ylabel('Number of comments', fontsize=20)\n",
    "plt.tight_layout()\n",
    "plt.legend(['Non-constructive', 'Constructive'], fontsize='xx-large')\n",
    "# plt.show()\n",
    "plt.savefig('comments.png')"
   ]
  },
  {
   "cell_type": "code",
   "execution_count": 328,
   "metadata": {},
   "outputs": [
    {
     "data": {
      "text/plain": [
       "Index(['pp_comment_text', 'constructive_prediction', 'TOXICITY_probability'], dtype='object')"
      ]
     },
     "execution_count": 328,
     "metadata": {},
     "output_type": "execute_result"
    }
   ],
   "source": [
    "combined_socc.columns"
   ]
  },
  {
   "cell_type": "code",
   "execution_count": 345,
   "metadata": {},
   "outputs": [],
   "source": [
    "socc_everything = combined_socc.merge(socc_comments_df, left_on='pp_comment_text', right_on='comment_text')\n",
    "socc_everything = socc_everything.merge(pd.DataFrame(socc_article_main_topics).rename({0 : 'main_topic'}, axis=1),\n",
    "                                        left_index=True, right_index=True)\n",
    "socc_everything = socc_everything.merge(socc_articles_merged[['article_id', 'main_topic']].rename({'main_topic' : 'article_main_topic'}, axis=1),\n",
    "                      on='article_id')"
   ]
  },
  {
   "cell_type": "code",
   "execution_count": 358,
   "metadata": {},
   "outputs": [
    {
     "data": {
      "text/plain": [
       "article_main_topic\n",
       "6     0.409091\n",
       "11    0.398734\n",
       "9     0.369276\n",
       "3     0.361017\n",
       "2     0.344828\n",
       "13    0.335303\n",
       "12    0.316268\n",
       "14    0.277778\n",
       "10    0.000000\n",
       "8     0.000000\n",
       "7     0.000000\n",
       "5     0.000000\n",
       "4     0.000000\n",
       "1     0.000000\n",
       "0     0.000000\n",
       "Name: constructive_prediction, dtype: float64"
      ]
     },
     "execution_count": 358,
     "metadata": {},
     "output_type": "execute_result"
    }
   ],
   "source": [
    "socc_everything.groupby('article_main_topic').mean()['constructive_prediction'].sort_values(ascending=False)"
   ]
  },
  {
   "cell_type": "code",
   "execution_count": 357,
   "metadata": {},
   "outputs": [
    {
     "data": {
      "text/plain": [
       "article_main_topic\n",
       "12    0.300246\n",
       "9     0.233031\n",
       "3     0.225076\n",
       "11    0.207627\n",
       "13    0.195138\n",
       "2     0.165480\n",
       "6     0.154617\n",
       "14    0.132549\n",
       "4     0.049839\n",
       "10    0.049510\n",
       "1     0.045962\n",
       "8     0.042367\n",
       "7     0.037913\n",
       "5     0.037913\n",
       "0     0.037913\n",
       "Name: TOXICITY_probability, dtype: float64"
      ]
     },
     "execution_count": 357,
     "metadata": {},
     "output_type": "execute_result"
    }
   ],
   "source": [
    "socc_everything.groupby('article_main_topic').mean()['TOXICITY_probability'].sort_values(ascending=False)"
   ]
  }
 ],
 "metadata": {
  "kernelspec": {
   "display_name": "Python 3",
   "language": "python",
   "name": "python3"
  },
  "language_info": {
   "codemirror_mode": {
    "name": "ipython",
    "version": 3
   },
   "file_extension": ".py",
   "mimetype": "text/x-python",
   "name": "python",
   "nbconvert_exporter": "python",
   "pygments_lexer": "ipython3",
   "version": "3.5.6"
  }
 },
 "nbformat": 4,
 "nbformat_minor": 2
}
